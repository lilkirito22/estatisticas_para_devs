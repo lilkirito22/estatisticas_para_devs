{
 "cells": [
  {
   "cell_type": "code",
   "execution_count": null,
   "id": "f459c081",
   "metadata": {},
   "outputs": [],
   "source": [
    "import pandas as pd "
   ]
  }
 ],
 "metadata": {
  "kernelspec": {
   "display_name": "estatisticas_para_devs-e1G7LnQ6",
   "language": "python",
   "name": "python3"
  },
  "language_info": {
   "name": "python",
   "version": "3.11.0"
  }
 },
 "nbformat": 4,
 "nbformat_minor": 5
}
